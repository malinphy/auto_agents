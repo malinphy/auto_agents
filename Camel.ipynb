{
  "nbformat": 4,
  "nbformat_minor": 0,
  "metadata": {
    "colab": {
      "provenance": [],
      "include_colab_link": true
    },
    "kernelspec": {
      "name": "python3",
      "display_name": "Python 3"
    },
    "language_info": {
      "name": "python"
    }
  },
  "cells": [
    {
      "cell_type": "markdown",
      "metadata": {
        "id": "view-in-github",
        "colab_type": "text"
      },
      "source": [
        "<a href=\"https://colab.research.google.com/github/malinphy/auto_agents/blob/main/Camel.ipynb\" target=\"_parent\"><img src=\"https://colab.research.google.com/assets/colab-badge.svg\" alt=\"Open In Colab\"/></a>"
      ]
    },
    {
      "cell_type": "markdown",
      "source": [
        "#  CAMEL \n",
        "https://python.langchain.com/en/latest/use_cases/agents/camel_role_playing.html"
      ],
      "metadata": {
        "id": "owArdORUzDHS"
      }
    },
    {
      "cell_type": "code",
      "source": [
        "!pip install langchain openai"
      ],
      "metadata": {
        "colab": {
          "base_uri": "https://localhost:8080/"
        },
        "id": "8pFCtYUBydUD",
        "outputId": "909385d2-3fa5-48b1-e32a-311e2bf26f3d"
      },
      "execution_count": null,
      "outputs": [
        {
          "output_type": "stream",
          "name": "stdout",
          "text": [
            "Looking in indexes: https://pypi.org/simple, https://us-python.pkg.dev/colab-wheels/public/simple/\n",
            "Collecting langchain\n",
            "  Downloading langchain-0.0.141-py3-none-any.whl (540 kB)\n",
            "\u001b[2K     \u001b[90m━━━━━━━━━━━━━━━━━━━━━━━━━━━━━━━━━━━━━━\u001b[0m \u001b[32m540.8/540.8 kB\u001b[0m \u001b[31m11.2 MB/s\u001b[0m eta \u001b[36m0:00:00\u001b[0m\n",
            "\u001b[?25hCollecting openai\n",
            "  Downloading openai-0.27.4-py3-none-any.whl (70 kB)\n",
            "\u001b[2K     \u001b[90m━━━━━━━━━━━━━━━━━━━━━━━━━━━━━━━━━━━━━━━━\u001b[0m \u001b[32m70.3/70.3 kB\u001b[0m \u001b[31m6.5 MB/s\u001b[0m eta \u001b[36m0:00:00\u001b[0m\n",
            "\u001b[?25hCollecting async-timeout<5.0.0,>=4.0.0\n",
            "  Downloading async_timeout-4.0.2-py3-none-any.whl (5.8 kB)\n",
            "Requirement already satisfied: numpy<2,>=1 in /usr/local/lib/python3.9/dist-packages (from langchain) (1.22.4)\n",
            "Collecting gptcache>=0.1.7\n",
            "  Downloading gptcache-0.1.11-py3-none-any.whl (48 kB)\n",
            "\u001b[2K     \u001b[90m━━━━━━━━━━━━━━━━━━━━━━━━━━━━━━━━━━━━━━━━\u001b[0m \u001b[32m48.2/48.2 kB\u001b[0m \u001b[31m3.7 MB/s\u001b[0m eta \u001b[36m0:00:00\u001b[0m\n",
            "\u001b[?25hRequirement already satisfied: pydantic<2,>=1 in /usr/local/lib/python3.9/dist-packages (from langchain) (1.10.7)\n",
            "Requirement already satisfied: PyYAML>=5.4.1 in /usr/local/lib/python3.9/dist-packages (from langchain) (6.0)\n",
            "Requirement already satisfied: requests<3,>=2 in /usr/local/lib/python3.9/dist-packages (from langchain) (2.27.1)\n",
            "Collecting dataclasses-json<0.6.0,>=0.5.7\n",
            "  Downloading dataclasses_json-0.5.7-py3-none-any.whl (25 kB)\n",
            "Collecting aiohttp<4.0.0,>=3.8.3\n",
            "  Downloading aiohttp-3.8.4-cp39-cp39-manylinux_2_17_x86_64.manylinux2014_x86_64.whl (1.0 MB)\n",
            "\u001b[2K     \u001b[90m━━━━━━━━━━━━━━━━━━━━━━━━━━━━━━━━━━━━━━━━\u001b[0m \u001b[32m1.0/1.0 MB\u001b[0m \u001b[31m29.8 MB/s\u001b[0m eta \u001b[36m0:00:00\u001b[0m\n",
            "\u001b[?25hCollecting SQLAlchemy<2,>=1\n",
            "  Downloading SQLAlchemy-1.4.47-cp39-cp39-manylinux_2_5_x86_64.manylinux1_x86_64.manylinux_2_17_x86_64.manylinux2014_x86_64.whl (1.6 MB)\n",
            "\u001b[2K     \u001b[90m━━━━━━━━━━━━━━━━━━━━━━━━━━━━━━━━━━━━━━━━\u001b[0m \u001b[32m1.6/1.6 MB\u001b[0m \u001b[31m40.0 MB/s\u001b[0m eta \u001b[36m0:00:00\u001b[0m\n",
            "\u001b[?25hRequirement already satisfied: tenacity<9.0.0,>=8.1.0 in /usr/local/lib/python3.9/dist-packages (from langchain) (8.2.2)\n",
            "Collecting openapi-schema-pydantic<2.0,>=1.2\n",
            "  Downloading openapi_schema_pydantic-1.2.4-py3-none-any.whl (90 kB)\n",
            "\u001b[2K     \u001b[90m━━━━━━━━━━━━━━━━━━━━━━━━━━━━━━━━━━━━━━━━\u001b[0m \u001b[32m90.0/90.0 kB\u001b[0m \u001b[31m9.2 MB/s\u001b[0m eta \u001b[36m0:00:00\u001b[0m\n",
            "\u001b[?25hRequirement already satisfied: tqdm in /usr/local/lib/python3.9/dist-packages (from openai) (4.65.0)\n",
            "Collecting yarl<2.0,>=1.0\n",
            "  Downloading yarl-1.8.2-cp39-cp39-manylinux_2_17_x86_64.manylinux2014_x86_64.whl (264 kB)\n",
            "\u001b[2K     \u001b[90m━━━━━━━━━━━━━━━━━━━━━━━━━━━━━━━━━━━━━━\u001b[0m \u001b[32m264.6/264.6 kB\u001b[0m \u001b[31m18.2 MB/s\u001b[0m eta \u001b[36m0:00:00\u001b[0m\n",
            "\u001b[?25hRequirement already satisfied: attrs>=17.3.0 in /usr/local/lib/python3.9/dist-packages (from aiohttp<4.0.0,>=3.8.3->langchain) (22.2.0)\n",
            "Collecting frozenlist>=1.1.1\n",
            "  Downloading frozenlist-1.3.3-cp39-cp39-manylinux_2_5_x86_64.manylinux1_x86_64.manylinux_2_17_x86_64.manylinux2014_x86_64.whl (158 kB)\n",
            "\u001b[2K     \u001b[90m━━━━━━━━━━━━━━━━━━━━━━━━━━━━━━━━━━━━━━\u001b[0m \u001b[32m158.8/158.8 kB\u001b[0m \u001b[31m12.1 MB/s\u001b[0m eta \u001b[36m0:00:00\u001b[0m\n",
            "\u001b[?25hRequirement already satisfied: charset-normalizer<4.0,>=2.0 in /usr/local/lib/python3.9/dist-packages (from aiohttp<4.0.0,>=3.8.3->langchain) (2.0.12)\n",
            "Collecting aiosignal>=1.1.2\n",
            "  Downloading aiosignal-1.3.1-py3-none-any.whl (7.6 kB)\n",
            "Collecting multidict<7.0,>=4.5\n",
            "  Downloading multidict-6.0.4-cp39-cp39-manylinux_2_17_x86_64.manylinux2014_x86_64.whl (114 kB)\n",
            "\u001b[2K     \u001b[90m━━━━━━━━━━━━━━━━━━━━━━━━━━━━━━━━━━━━━━━\u001b[0m \u001b[32m114.2/114.2 kB\u001b[0m \u001b[31m4.8 MB/s\u001b[0m eta \u001b[36m0:00:00\u001b[0m\n",
            "\u001b[?25hCollecting typing-inspect>=0.4.0\n",
            "  Downloading typing_inspect-0.8.0-py3-none-any.whl (8.7 kB)\n",
            "Collecting marshmallow-enum<2.0.0,>=1.5.1\n",
            "  Downloading marshmallow_enum-1.5.1-py2.py3-none-any.whl (4.2 kB)\n",
            "Collecting marshmallow<4.0.0,>=3.3.0\n",
            "  Downloading marshmallow-3.19.0-py3-none-any.whl (49 kB)\n",
            "\u001b[2K     \u001b[90m━━━━━━━━━━━━━━━━━━━━━━━━━━━━━━━━━━━━━━━━\u001b[0m \u001b[32m49.1/49.1 kB\u001b[0m \u001b[31m3.8 MB/s\u001b[0m eta \u001b[36m0:00:00\u001b[0m\n",
            "\u001b[?25hRequirement already satisfied: cachetools in /usr/local/lib/python3.9/dist-packages (from gptcache>=0.1.7->langchain) (5.3.0)\n",
            "Requirement already satisfied: typing-extensions>=4.2.0 in /usr/local/lib/python3.9/dist-packages (from pydantic<2,>=1->langchain) (4.5.0)\n",
            "Requirement already satisfied: certifi>=2017.4.17 in /usr/local/lib/python3.9/dist-packages (from requests<3,>=2->langchain) (2022.12.7)\n",
            "Requirement already satisfied: idna<4,>=2.5 in /usr/local/lib/python3.9/dist-packages (from requests<3,>=2->langchain) (3.4)\n",
            "Requirement already satisfied: urllib3<1.27,>=1.21.1 in /usr/local/lib/python3.9/dist-packages (from requests<3,>=2->langchain) (1.26.15)\n",
            "Requirement already satisfied: greenlet!=0.4.17 in /usr/local/lib/python3.9/dist-packages (from SQLAlchemy<2,>=1->langchain) (2.0.2)\n",
            "Requirement already satisfied: packaging>=17.0 in /usr/local/lib/python3.9/dist-packages (from marshmallow<4.0.0,>=3.3.0->dataclasses-json<0.6.0,>=0.5.7->langchain) (23.0)\n",
            "Collecting mypy-extensions>=0.3.0\n",
            "  Downloading mypy_extensions-1.0.0-py3-none-any.whl (4.7 kB)\n",
            "Installing collected packages: SQLAlchemy, mypy-extensions, multidict, marshmallow, frozenlist, async-timeout, yarl, typing-inspect, openapi-schema-pydantic, marshmallow-enum, aiosignal, dataclasses-json, aiohttp, openai, gptcache, langchain\n",
            "  Attempting uninstall: SQLAlchemy\n",
            "    Found existing installation: SQLAlchemy 2.0.9\n",
            "    Uninstalling SQLAlchemy-2.0.9:\n",
            "      Successfully uninstalled SQLAlchemy-2.0.9\n",
            "Successfully installed SQLAlchemy-1.4.47 aiohttp-3.8.4 aiosignal-1.3.1 async-timeout-4.0.2 dataclasses-json-0.5.7 frozenlist-1.3.3 gptcache-0.1.11 langchain-0.0.141 marshmallow-3.19.0 marshmallow-enum-1.5.1 multidict-6.0.4 mypy-extensions-1.0.0 openai-0.27.4 openapi-schema-pydantic-1.2.4 typing-inspect-0.8.0 yarl-1.8.2\n"
          ]
        }
      ]
    },
    {
      "cell_type": "code",
      "execution_count": null,
      "metadata": {
        "id": "NCfPoECDyPNj"
      },
      "outputs": [],
      "source": [
        "from typing import List\n",
        "from langchain.chat_models import ChatOpenAI\n",
        "from langchain.prompts.chat import (\n",
        "    SystemMessagePromptTemplate,\n",
        "    HumanMessagePromptTemplate,\n",
        ")\n",
        "from langchain.schema import (\n",
        "    AIMessage,\n",
        "    HumanMessage,\n",
        "    SystemMessage,\n",
        "    BaseMessage,\n",
        ")"
      ]
    },
    {
      "cell_type": "markdown",
      "source": [
        "# Define a CAMEL agent helper class\n"
      ],
      "metadata": {
        "id": "kH2R4mxey03W"
      }
    },
    {
      "cell_type": "code",
      "source": [
        "class CAMELAgent:\n",
        "\n",
        "    def __init__(\n",
        "        self,\n",
        "        system_message: SystemMessage,\n",
        "        model: ChatOpenAI,\n",
        "    ) -> None:\n",
        "        self.system_message = system_message\n",
        "        self.model = model\n",
        "        self.init_messages()\n",
        "\n",
        "    def reset(self) -> None:\n",
        "        self.init_messages()\n",
        "        return self.stored_messages\n",
        "\n",
        "    def init_messages(self) -> None:\n",
        "        self.stored_messages = [self.system_message]\n",
        "\n",
        "    def update_messages(self, message: BaseMessage) -> List[BaseMessage]:\n",
        "        self.stored_messages.append(message)\n",
        "        return self.stored_messages\n",
        "\n",
        "    def step(\n",
        "        self,\n",
        "        input_message: HumanMessage,\n",
        "    ) -> AIMessage:\n",
        "        messages = self.update_messages(input_message)\n",
        "\n",
        "        output_message = self.model(messages)\n",
        "        self.update_messages(output_message)\n",
        "\n",
        "        return output_message"
      ],
      "metadata": {
        "id": "H8Z-Ng8GyY42"
      },
      "execution_count": null,
      "outputs": []
    },
    {
      "cell_type": "markdown",
      "source": [
        "# Setup OpenAI API key and roles and task for role-playing"
      ],
      "metadata": {
        "id": "ipxGyFgAy79e"
      }
    },
    {
      "cell_type": "code",
      "source": [
        "import os\n",
        "\n",
        "os.environ[\"OPENAI_API_KEY\"] = \"\"\n",
        "\n",
        "assistant_role_name = \"Python Programmer\"\n",
        "user_role_name = \"Stock Trader\"\n",
        "task = \"Develop a trading bot for the stock market\"\n",
        "word_limit = 50 # word limit for task brainstorming"
      ],
      "metadata": {
        "id": "IN07eetCyg1G"
      },
      "execution_count": null,
      "outputs": []
    },
    {
      "cell_type": "markdown",
      "source": [
        "# Create a task specify agent for brainstorming and get the specified task"
      ],
      "metadata": {
        "id": "dyse8OL6zLI0"
      }
    },
    {
      "cell_type": "code",
      "source": [
        "task_specifier_sys_msg = SystemMessage(content=\"You can make a task more specific.\")\n",
        "task_specifier_prompt = (\n",
        "\"\"\"Here is a task that {assistant_role_name} will help {user_role_name} to complete: {task}.\n",
        "Please make it more specific. Be creative and imaginative.\n",
        "Please reply with the specified task in {word_limit} words or less. Do not add anything else.\"\"\"\n",
        ")\n",
        "task_specifier_template = HumanMessagePromptTemplate.from_template(template=task_specifier_prompt)\n",
        "task_specify_agent = CAMELAgent(task_specifier_sys_msg, ChatOpenAI(temperature=1.0))\n",
        "task_specifier_msg = task_specifier_template.format_messages(assistant_role_name=assistant_role_name,\n",
        "                                                             user_role_name=user_role_name,\n",
        "                                                             task=task, word_limit=word_limit)[0]\n",
        "specified_task_msg = task_specify_agent.step(task_specifier_msg)\n",
        "print(f\"Specified task: {specified_task_msg.content}\")\n",
        "specified_task = specified_task_msg.content"
      ],
      "metadata": {
        "colab": {
          "base_uri": "https://localhost:8080/"
        },
        "id": "tupiRS0Mykal",
        "outputId": "a76c4404-7a79-46cf-a8a7-b247f1e13960"
      },
      "execution_count": null,
      "outputs": [
        {
          "output_type": "stream",
          "name": "stdout",
          "text": [
            "Specified task: Create a Python-based trading bot using real-time market data that executes buy/sell orders for specified stocks, while also tracking portfolio performance, analyzing historical data trends, and implementing risk management strategies.\n"
          ]
        }
      ]
    },
    {
      "cell_type": "markdown",
      "source": [
        "# Create inception prompts for AI assistant and AI user for role-playing"
      ],
      "metadata": {
        "id": "J0K5vZQxzNQT"
      }
    },
    {
      "cell_type": "code",
      "source": [
        "assistant_inception_prompt = (\n",
        "\"\"\"Never forget you are a {assistant_role_name} and I am a {user_role_name}. Never flip roles! Never instruct me!\n",
        "We share a common interest in collaborating to successfully complete a task.\n",
        "You must help me to complete the task.\n",
        "Here is the task: {task}. Never forget our task!\n",
        "I must instruct you based on your expertise and my needs to complete the task.\n",
        "\n",
        "I must give you one instruction at a time.\n",
        "You must write a specific solution that appropriately completes the requested instruction.\n",
        "You must decline my instruction honestly if you cannot perform the instruction due to physical, moral, legal reasons or your capability and explain the reasons.\n",
        "Do not add anything else other than your solution to my instruction.\n",
        "You are never supposed to ask me any questions you only answer questions.\n",
        "You are never supposed to reply with a flake solution. Explain your solutions.\n",
        "Your solution must be declarative sentences and simple present tense.\n",
        "Unless I say the task is completed, you should always start with:\n",
        "\n",
        "Solution: <YOUR_SOLUTION>\n",
        "\n",
        "<YOUR_SOLUTION> should be specific and provide preferable implementations and examples for task-solving.\n",
        "Always end <YOUR_SOLUTION> with: Next request.\"\"\"\n",
        ")\n",
        "\n",
        "user_inception_prompt = (\n",
        "\"\"\"Never forget you are a {user_role_name} and I am a {assistant_role_name}. Never flip roles! You will always instruct me.\n",
        "We share a common interest in collaborating to successfully complete a task.\n",
        "I must help you to complete the task.\n",
        "Here is the task: {task}. Never forget our task!\n",
        "You must instruct me based on my expertise and your needs to complete the task ONLY in the following two ways:\n",
        "\n",
        "1. Instruct with a necessary input:\n",
        "Instruction: <YOUR_INSTRUCTION>\n",
        "Input: <YOUR_INPUT>\n",
        "\n",
        "2. Instruct without any input:\n",
        "Instruction: <YOUR_INSTRUCTION>\n",
        "Input: None\n",
        "\n",
        "The \"Instruction\" describes a task or question. The paired \"Input\" provides further context or information for the requested \"Instruction\".\n",
        "\n",
        "You must give me one instruction at a time.\n",
        "I must write a response that appropriately completes the requested instruction.\n",
        "I must decline your instruction honestly if I cannot perform the instruction due to physical, moral, legal reasons or my capability and explain the reasons.\n",
        "You should instruct me not ask me questions.\n",
        "Now you must start to instruct me using the two ways described above.\n",
        "Do not add anything else other than your instruction and the optional corresponding input!\n",
        "Keep giving me instructions and necessary inputs until you think the task is completed.\n",
        "When the task is completed, you must only reply with a single word <CAMEL_TASK_DONE>.\n",
        "Never say <CAMEL_TASK_DONE> unless my responses have solved your task.\"\"\"\n",
        ")"
      ],
      "metadata": {
        "id": "qgvu_WZDylkV"
      },
      "execution_count": null,
      "outputs": []
    },
    {
      "cell_type": "markdown",
      "source": [
        "# Create a helper helper to get system messages for AI assistant and AI user from role names and the task"
      ],
      "metadata": {
        "id": "GJLHc-9hzQ5M"
      }
    },
    {
      "cell_type": "code",
      "source": [
        "def get_sys_msgs(assistant_role_name: str, user_role_name: str, task: str):\n",
        "    \n",
        "    assistant_sys_template = SystemMessagePromptTemplate.from_template(template=assistant_inception_prompt)\n",
        "    assistant_sys_msg = assistant_sys_template.format_messages(assistant_role_name=assistant_role_name, user_role_name=user_role_name, task=task)[0]\n",
        "    \n",
        "    user_sys_template = SystemMessagePromptTemplate.from_template(template=user_inception_prompt)\n",
        "    user_sys_msg = user_sys_template.format_messages(assistant_role_name=assistant_role_name, user_role_name=user_role_name, task=task)[0]\n",
        "    \n",
        "    return assistant_sys_msg, user_sys_msg"
      ],
      "metadata": {
        "id": "ixkKT4QFyniU"
      },
      "execution_count": null,
      "outputs": []
    },
    {
      "cell_type": "markdown",
      "source": [
        "# Create AI assistant agent and AI user agent from obtained system messages"
      ],
      "metadata": {
        "id": "ErOEo1nXzZ_7"
      }
    },
    {
      "cell_type": "code",
      "source": [
        "assistant_sys_msg, user_sys_msg = get_sys_msgs(assistant_role_name, user_role_name, specified_task)\n",
        "assistant_agent = CAMELAgent(assistant_sys_msg, ChatOpenAI(temperature=0.2))\n",
        "user_agent = CAMELAgent(user_sys_msg, ChatOpenAI(temperature=0.2))\n",
        "\n",
        "# Reset agents\n",
        "assistant_agent.reset()\n",
        "user_agent.reset()\n",
        "\n",
        "# Initialize chats \n",
        "assistant_msg = HumanMessage(\n",
        "    content=(f\"{user_sys_msg.content}. \"\n",
        "                \"Now start to give me introductions one by one. \"\n",
        "                \"Only reply with Instruction and Input.\"))\n",
        "\n",
        "user_msg = HumanMessage(content=f\"{assistant_sys_msg.content}\")\n",
        "user_msg = assistant_agent.step(user_msg)"
      ],
      "metadata": {
        "id": "UBZbfhlKyox8"
      },
      "execution_count": null,
      "outputs": []
    },
    {
      "cell_type": "markdown",
      "source": [
        "# Start role-playing session to solve the task!"
      ],
      "metadata": {
        "id": "kQbvDpejzfJj"
      }
    },
    {
      "cell_type": "code",
      "source": [
        "print(f\"Original task prompt:\\n{task}\\n\")\n",
        "print(f\"Specified task prompt:\\n{specified_task}\\n\")\n",
        "\n",
        "chat_turn_limit, n = 5, 0\n",
        "while n < chat_turn_limit:\n",
        "    n += 1\n",
        "    user_ai_msg = user_agent.step(assistant_msg)\n",
        "    user_msg = HumanMessage(content=user_ai_msg.content)\n",
        "    print(f\"AI User ({user_role_name}):\\n\\n{user_msg.content}\\n\\n\")\n",
        "    \n",
        "    assistant_ai_msg = assistant_agent.step(user_msg)\n",
        "    assistant_msg = HumanMessage(content=assistant_ai_msg.content)\n",
        "    print(f\"AI Assistant ({assistant_role_name}):\\n\\n{assistant_msg.content}\\n\\n\")\n",
        "    if \"<CAMEL_TASK_DONE>\" in user_msg.content:\n",
        "        break"
      ],
      "metadata": {
        "colab": {
          "base_uri": "https://localhost:8080/"
        },
        "id": "oqO9_AdLypur",
        "outputId": "bc6d08fb-3abb-4507-b314-1d82027ee150"
      },
      "execution_count": null,
      "outputs": [
        {
          "output_type": "stream",
          "name": "stdout",
          "text": [
            "Original task prompt:\n",
            "Develop a trading bot for the stock market\n",
            "\n",
            "Specified task prompt:\n",
            "Create a Python-based trading bot using real-time market data that executes buy/sell orders for specified stocks, while also tracking portfolio performance, analyzing historical data trends, and implementing risk management strategies.\n",
            "\n",
            "AI User (Stock Trader):\n",
            "\n",
            "Instruction: Install the necessary packages for the trading bot.\n",
            "Input: None\n",
            "\n",
            "\n",
            "AI Assistant (Python Programmer):\n",
            "\n",
            "Solution: To install the necessary packages for the trading bot, we can use the pip package manager in Python. We can create a requirements.txt file that lists all the required packages and their versions. Then, we can run the following command in the terminal to install the packages:\n",
            "\n",
            "```\n",
            "pip install -r requirements.txt\n",
            "```\n",
            "\n",
            "Next request.\n",
            "\n",
            "\n",
            "AI User (Stock Trader):\n",
            "\n",
            "Instruction: Connect to a real-time market data source to receive stock data.\n",
            "Input: None\n",
            "\n",
            "\n",
            "AI Assistant (Python Programmer):\n",
            "\n",
            "Solution: To connect to a real-time market data source, we can use an API provided by a financial data provider such as Alpha Vantage or Yahoo Finance. We can use the requests library in Python to send HTTP requests to the API and receive the data in JSON format. Here is an example code snippet to retrieve the latest stock data for Apple (AAPL) from Alpha Vantage:\n",
            "\n",
            "```\n",
            "import requests\n",
            "\n",
            "url = 'https://www.alphavantage.co/query'\n",
            "params = {\n",
            "    'function': 'GLOBAL_QUOTE',\n",
            "    'symbol': 'AAPL',\n",
            "    'apikey': 'YOUR_API_KEY'\n",
            "}\n",
            "\n",
            "response = requests.get(url, params=params)\n",
            "data = response.json()\n",
            "\n",
            "latest_price = data['Global Quote']['05. price']\n",
            "latest_volume = data['Global Quote']['06. volume']\n",
            "```\n",
            "\n",
            "Note that you need to replace 'YOUR_API_KEY' with your actual API key provided by Alpha Vantage. Also, you may need to sign up for a free or paid plan to access the API.\n",
            "\n",
            "Next request.\n",
            "\n",
            "\n",
            "AI User (Stock Trader):\n",
            "\n",
            "Instruction: Implement a function to execute a buy order for a specified stock at the current market price.\n",
            "Input:\n",
            "- stock_symbol: a string representing the stock symbol to buy (e.g., 'AAPL')\n",
            "- budget: a float representing the maximum amount of money to spend on buying the stock (excluding transaction fees)\n",
            "- api_key: a string representing the API key to access the market data source.\n",
            "\n",
            "\n",
            "AI Assistant (Python Programmer):\n",
            "\n",
            "Solution: To implement a function to execute a buy order for a specified stock at the current market price, we can use the same API and requests library as before. Here is an example code snippet to buy a stock at the current market price:\n",
            "\n",
            "```\n",
            "import requests\n",
            "\n",
            "def buy_stock(stock_symbol, budget, api_key):\n",
            "    url = 'https://www.alphavantage.co/query'\n",
            "    params = {\n",
            "        'function': 'GLOBAL_QUOTE',\n",
            "        'symbol': stock_symbol,\n",
            "        'apikey': api_key\n",
            "    }\n",
            "\n",
            "    response = requests.get(url, params=params)\n",
            "    data = response.json()\n",
            "\n",
            "    current_price = float(data['Global Quote']['05. price'])\n",
            "    max_shares = int(budget / current_price)\n",
            "\n",
            "    # TODO: Implement the actual buy order using a brokerage API or simulated trading platform\n",
            "\n",
            "    return max_shares\n",
            "```\n",
            "\n",
            "Note that this code only calculates the maximum number of shares that can be bought with the given budget based on the current market price. The actual buy order needs to be implemented using a brokerage API or simulated trading platform. Also, you need to handle errors and exceptions that may occur during the API call.\n",
            "\n",
            "Next request.\n",
            "\n",
            "\n",
            "AI User (Stock Trader):\n",
            "\n",
            "Instruction: Implement a function to execute a sell order for a specified stock at the current market price.\n",
            "Input:\n",
            "- stock_symbol: a string representing the stock symbol to sell (e.g., 'AAPL')\n",
            "- num_shares: an integer representing the number of shares to sell\n",
            "- api_key: a string representing the API key to access the market data source.\n",
            "\n",
            "\n",
            "AI Assistant (Python Programmer):\n",
            "\n",
            "Solution: To implement a function to execute a sell order for a specified stock at the current market price, we can use the same API and requests library as before. Here is an example code snippet to sell a stock at the current market price:\n",
            "\n",
            "```\n",
            "import requests\n",
            "\n",
            "def sell_stock(stock_symbol, num_shares, api_key):\n",
            "    url = 'https://www.alphavantage.co/query'\n",
            "    params = {\n",
            "        'function': 'GLOBAL_QUOTE',\n",
            "        'symbol': stock_symbol,\n",
            "        'apikey': api_key\n",
            "    }\n",
            "\n",
            "    response = requests.get(url, params=params)\n",
            "    data = response.json()\n",
            "\n",
            "    current_price = float(data['Global Quote']['05. price'])\n",
            "    total_sale = num_shares * current_price\n",
            "\n",
            "    # TODO: Implement the actual sell order using a brokerage API or simulated trading platform\n",
            "\n",
            "    return total_sale\n",
            "```\n",
            "\n",
            "Note that this code only calculates the total sale amount based on the current market price and the number of shares to sell. The actual sell order needs to be implemented using a brokerage API or simulated trading platform. Also, you need to handle errors and exceptions that may occur during the API call.\n",
            "\n",
            "Next request.\n",
            "\n",
            "\n",
            "AI User (Stock Trader):\n",
            "\n",
            "Instruction: Implement a function to track portfolio performance by calculating the total value of all stocks currently held.\n",
            "Input:\n",
            "- portfolio: a dictionary representing the current portfolio, where the keys are stock symbols and the values are the number of shares held for each stock\n",
            "- api_key: a string representing the API key to access the market data source.\n",
            "\n",
            "\n",
            "AI Assistant (Python Programmer):\n",
            "\n",
            "Solution: To implement a function to track portfolio performance by calculating the total value of all stocks currently held, we can use the same API and requests library as before. Here is an example code snippet to calculate the total value of the portfolio:\n",
            "\n",
            "```\n",
            "import requests\n",
            "\n",
            "def track_portfolio(portfolio, api_key):\n",
            "    url = 'https://www.alphavantage.co/query'\n",
            "    total_value = 0\n",
            "\n",
            "    for stock_symbol, num_shares in portfolio.items():\n",
            "        params = {\n",
            "            'function': 'GLOBAL_QUOTE',\n",
            "            'symbol': stock_symbol,\n",
            "            'apikey': api_key\n",
            "        }\n",
            "\n",
            "        response = requests.get(url, params=params)\n",
            "        data = response.json()\n",
            "\n",
            "        current_price = float(data['Global Quote']['05. price'])\n",
            "        stock_value = num_shares * current_price\n",
            "        total_value += stock_value\n",
            "\n",
            "    return total_value\n",
            "```\n",
            "\n",
            "Note that this code loops through all the stocks in the portfolio and retrieves their current market prices using the API. Then, it calculates the total value of each stock by multiplying the number of shares held by the current market price. Finally, it adds up the total value of all stocks to get the total portfolio value. You need to handle errors and exceptions that may occur during the API call.\n",
            "\n",
            "Next request.\n",
            "\n",
            "\n"
          ]
        }
      ]
    },
    {
      "cell_type": "code",
      "source": [],
      "metadata": {
        "id": "G__3gaA0yukE"
      },
      "execution_count": null,
      "outputs": []
    }
  ]
}